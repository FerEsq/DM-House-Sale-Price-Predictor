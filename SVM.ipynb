{
 "cells": [
  {
   "metadata": {},
   "cell_type": "markdown",
   "source": "# HT7. Support Vector Machine"
  },
  {
   "metadata": {},
   "cell_type": "markdown",
   "source": [
    "## Miembros\n",
    "- Francisco Javier Castillo Cerna 21562\n",
    "- Fernanda Esquivel de León 21542\n",
    "- Andrés Estuardo Montoya 21552"
   ]
  },
  {
   "metadata": {},
   "cell_type": "markdown",
   "source": [
    "## Link al repositorio \n",
    "El repositorio puede ser visualizado [acá](https://github.com/FerEsq/DM-House-Saleprice-Predictor/tree/SVM)"
   ]
  },
  {
   "metadata": {},
   "cell_type": "markdown",
   "source": "# 1. Use los mismos conjuntos de entrenamiento y prueba de las hojas de trabajo pasadas para probar el algoritmo."
  },
  {
   "cell_type": "code",
   "metadata": {
    "ExecuteTime": {
     "end_time": "2024-04-18T22:33:49.459839Z",
     "start_time": "2024-04-18T22:33:49.455508Z"
    }
   },
   "source": [
    "import pandas as pd\n",
    "import numpy as np\n",
    "import matplotlib.pyplot as plt\n",
    "import seaborn as sns"
   ],
   "outputs": [],
   "execution_count": 13
  },
  {
   "cell_type": "code",
   "metadata": {
    "ExecuteTime": {
     "end_time": "2024-04-18T22:33:49.514444Z",
     "start_time": "2024-04-18T22:33:49.492319Z"
    }
   },
   "source": [
    "df = pd.read_csv('data/train.csv')"
   ],
   "outputs": [],
   "execution_count": 14
  },
  {
   "cell_type": "code",
   "metadata": {
    "ExecuteTime": {
     "end_time": "2024-04-18T22:33:49.557019Z",
     "start_time": "2024-04-18T22:33:49.536987Z"
    }
   },
   "source": [
    "df.head()"
   ],
   "outputs": [
    {
     "data": {
      "text/plain": [
       "   Id  MSSubClass MSZoning  LotFrontage  LotArea Street Alley LotShape  \\\n",
       "0   1          60       RL         65.0     8450   Pave   NaN      Reg   \n",
       "1   2          20       RL         80.0     9600   Pave   NaN      Reg   \n",
       "2   3          60       RL         68.0    11250   Pave   NaN      IR1   \n",
       "3   4          70       RL         60.0     9550   Pave   NaN      IR1   \n",
       "4   5          60       RL         84.0    14260   Pave   NaN      IR1   \n",
       "\n",
       "  LandContour Utilities  ... PoolArea PoolQC Fence MiscFeature MiscVal MoSold  \\\n",
       "0         Lvl    AllPub  ...        0    NaN   NaN         NaN       0      2   \n",
       "1         Lvl    AllPub  ...        0    NaN   NaN         NaN       0      5   \n",
       "2         Lvl    AllPub  ...        0    NaN   NaN         NaN       0      9   \n",
       "3         Lvl    AllPub  ...        0    NaN   NaN         NaN       0      2   \n",
       "4         Lvl    AllPub  ...        0    NaN   NaN         NaN       0     12   \n",
       "\n",
       "  YrSold  SaleType  SaleCondition  SalePrice  \n",
       "0   2008        WD         Normal     208500  \n",
       "1   2007        WD         Normal     181500  \n",
       "2   2008        WD         Normal     223500  \n",
       "3   2006        WD        Abnorml     140000  \n",
       "4   2008        WD         Normal     250000  \n",
       "\n",
       "[5 rows x 81 columns]"
      ],
      "text/html": [
       "<div>\n",
       "<style scoped>\n",
       "    .dataframe tbody tr th:only-of-type {\n",
       "        vertical-align: middle;\n",
       "    }\n",
       "\n",
       "    .dataframe tbody tr th {\n",
       "        vertical-align: top;\n",
       "    }\n",
       "\n",
       "    .dataframe thead th {\n",
       "        text-align: right;\n",
       "    }\n",
       "</style>\n",
       "<table border=\"1\" class=\"dataframe\">\n",
       "  <thead>\n",
       "    <tr style=\"text-align: right;\">\n",
       "      <th></th>\n",
       "      <th>Id</th>\n",
       "      <th>MSSubClass</th>\n",
       "      <th>MSZoning</th>\n",
       "      <th>LotFrontage</th>\n",
       "      <th>LotArea</th>\n",
       "      <th>Street</th>\n",
       "      <th>Alley</th>\n",
       "      <th>LotShape</th>\n",
       "      <th>LandContour</th>\n",
       "      <th>Utilities</th>\n",
       "      <th>...</th>\n",
       "      <th>PoolArea</th>\n",
       "      <th>PoolQC</th>\n",
       "      <th>Fence</th>\n",
       "      <th>MiscFeature</th>\n",
       "      <th>MiscVal</th>\n",
       "      <th>MoSold</th>\n",
       "      <th>YrSold</th>\n",
       "      <th>SaleType</th>\n",
       "      <th>SaleCondition</th>\n",
       "      <th>SalePrice</th>\n",
       "    </tr>\n",
       "  </thead>\n",
       "  <tbody>\n",
       "    <tr>\n",
       "      <th>0</th>\n",
       "      <td>1</td>\n",
       "      <td>60</td>\n",
       "      <td>RL</td>\n",
       "      <td>65.0</td>\n",
       "      <td>8450</td>\n",
       "      <td>Pave</td>\n",
       "      <td>NaN</td>\n",
       "      <td>Reg</td>\n",
       "      <td>Lvl</td>\n",
       "      <td>AllPub</td>\n",
       "      <td>...</td>\n",
       "      <td>0</td>\n",
       "      <td>NaN</td>\n",
       "      <td>NaN</td>\n",
       "      <td>NaN</td>\n",
       "      <td>0</td>\n",
       "      <td>2</td>\n",
       "      <td>2008</td>\n",
       "      <td>WD</td>\n",
       "      <td>Normal</td>\n",
       "      <td>208500</td>\n",
       "    </tr>\n",
       "    <tr>\n",
       "      <th>1</th>\n",
       "      <td>2</td>\n",
       "      <td>20</td>\n",
       "      <td>RL</td>\n",
       "      <td>80.0</td>\n",
       "      <td>9600</td>\n",
       "      <td>Pave</td>\n",
       "      <td>NaN</td>\n",
       "      <td>Reg</td>\n",
       "      <td>Lvl</td>\n",
       "      <td>AllPub</td>\n",
       "      <td>...</td>\n",
       "      <td>0</td>\n",
       "      <td>NaN</td>\n",
       "      <td>NaN</td>\n",
       "      <td>NaN</td>\n",
       "      <td>0</td>\n",
       "      <td>5</td>\n",
       "      <td>2007</td>\n",
       "      <td>WD</td>\n",
       "      <td>Normal</td>\n",
       "      <td>181500</td>\n",
       "    </tr>\n",
       "    <tr>\n",
       "      <th>2</th>\n",
       "      <td>3</td>\n",
       "      <td>60</td>\n",
       "      <td>RL</td>\n",
       "      <td>68.0</td>\n",
       "      <td>11250</td>\n",
       "      <td>Pave</td>\n",
       "      <td>NaN</td>\n",
       "      <td>IR1</td>\n",
       "      <td>Lvl</td>\n",
       "      <td>AllPub</td>\n",
       "      <td>...</td>\n",
       "      <td>0</td>\n",
       "      <td>NaN</td>\n",
       "      <td>NaN</td>\n",
       "      <td>NaN</td>\n",
       "      <td>0</td>\n",
       "      <td>9</td>\n",
       "      <td>2008</td>\n",
       "      <td>WD</td>\n",
       "      <td>Normal</td>\n",
       "      <td>223500</td>\n",
       "    </tr>\n",
       "    <tr>\n",
       "      <th>3</th>\n",
       "      <td>4</td>\n",
       "      <td>70</td>\n",
       "      <td>RL</td>\n",
       "      <td>60.0</td>\n",
       "      <td>9550</td>\n",
       "      <td>Pave</td>\n",
       "      <td>NaN</td>\n",
       "      <td>IR1</td>\n",
       "      <td>Lvl</td>\n",
       "      <td>AllPub</td>\n",
       "      <td>...</td>\n",
       "      <td>0</td>\n",
       "      <td>NaN</td>\n",
       "      <td>NaN</td>\n",
       "      <td>NaN</td>\n",
       "      <td>0</td>\n",
       "      <td>2</td>\n",
       "      <td>2006</td>\n",
       "      <td>WD</td>\n",
       "      <td>Abnorml</td>\n",
       "      <td>140000</td>\n",
       "    </tr>\n",
       "    <tr>\n",
       "      <th>4</th>\n",
       "      <td>5</td>\n",
       "      <td>60</td>\n",
       "      <td>RL</td>\n",
       "      <td>84.0</td>\n",
       "      <td>14260</td>\n",
       "      <td>Pave</td>\n",
       "      <td>NaN</td>\n",
       "      <td>IR1</td>\n",
       "      <td>Lvl</td>\n",
       "      <td>AllPub</td>\n",
       "      <td>...</td>\n",
       "      <td>0</td>\n",
       "      <td>NaN</td>\n",
       "      <td>NaN</td>\n",
       "      <td>NaN</td>\n",
       "      <td>0</td>\n",
       "      <td>12</td>\n",
       "      <td>2008</td>\n",
       "      <td>WD</td>\n",
       "      <td>Normal</td>\n",
       "      <td>250000</td>\n",
       "    </tr>\n",
       "  </tbody>\n",
       "</table>\n",
       "<p>5 rows × 81 columns</p>\n",
       "</div>"
      ]
     },
     "execution_count": 15,
     "metadata": {},
     "output_type": "execute_result"
    }
   ],
   "execution_count": 15
  },
  {
   "cell_type": "code",
   "metadata": {
    "ExecuteTime": {
     "end_time": "2024-04-18T22:33:49.564255Z",
     "start_time": "2024-04-18T22:33:49.559024Z"
    }
   },
   "source": [
    "from sklearn.preprocessing import LabelEncoder\n",
    "\n",
    "le = LabelEncoder()"
   ],
   "outputs": [],
   "execution_count": 16
  },
  {
   "cell_type": "code",
   "metadata": {
    "ExecuteTime": {
     "end_time": "2024-04-18T22:33:49.629137Z",
     "start_time": "2024-04-18T22:33:49.566262Z"
    }
   },
   "source": [
    "df[\"MSZoning\"] = le.fit_transform(df[\"MSZoning\"])\n",
    "df[\"Street\"] = le.fit_transform(df[\"Street\"])\n",
    "df[\"Alley\"] = le.fit_transform(df[\"Alley\"])\n",
    "df[\"LotShape\"] = le.fit_transform(df[\"LotShape\"])\n",
    "df[\"LandContour\"] = le.fit_transform(df[\"LandContour\"])\n",
    "df[\"Utilities\"] = le.fit_transform(df[\"Utilities\"])\n",
    "df[\"LotConfig\"] = le.fit_transform(df[\"LotConfig\"])\n",
    "df[\"LandSlope\"] = df[\"LandSlope\"].map({\n",
    "    \"Gtl\": 1,\n",
    "    \"Mod\": 2,\n",
    "    \"Sev\": 3\n",
    "})\n",
    "df[\"Neighborhood\"] = le.fit_transform(df[\"Neighborhood\"])\n",
    "df[\"Condition1\"] = le.fit_transform(df[\"Condition1\"])\n",
    "df[\"Condition2\"] = le.fit_transform(df[\"Condition2\"])\n",
    "df[\"BldgType\"] = le.fit_transform(df[\"BldgType\"])\n",
    "df[\"HouseStyle\"] = le.fit_transform(df[\"HouseStyle\"])\n",
    "df[\"RoofStyle\"] = le.fit_transform(df[\"RoofStyle\"])\n",
    "df[\"RoofMatl\"] = le.fit_transform(df[\"RoofMatl\"])\n",
    "df[\"Exterior1st\"] = le.fit_transform(df[\"Exterior1st\"])\n",
    "df[\"Exterior2nd\"] = le.fit_transform(df[\"Exterior2nd\"])\n",
    "df[\"MasVnrType\"] = le.fit_transform(df[\"MasVnrType\"])\n",
    "\n",
    "condition_map = {\n",
    "    \"Ex\": 5,\n",
    "    \"Gd\": 4,\n",
    "    \"TA\": 3,\n",
    "    \"Fa\": 2,\n",
    "    \"Po\": 1,\n",
    "    \"NA\": 0,\n",
    "}\n",
    "df[\"ExterQual\"] = df[\"ExterQual\"].map(condition_map)\n",
    "df[\"ExterCond\"] = df[\"ExterCond\"].map(condition_map)\n",
    "df[\"Foundation\"] = le.fit_transform(df[\"Foundation\"])\n",
    "df[\"BsmtQual\"] = df[\"BsmtQual\"].map(condition_map)\n",
    "df[\"BsmtCond\"] = df[\"BsmtCond\"].map(condition_map)\n",
    "df[\"BsmtExposure\"] = df[\"BsmtExposure\"].map({\n",
    "    \"Gd\": 4,\n",
    "    \"Av\": 3,\n",
    "    \"Mn\": 2,\n",
    "    \"No\": 1,\n",
    "    \"NA\": 0\n",
    "})\n",
    "df[\"BsmtFinType1\"] = df[\"BsmtFinType1\"].map({\n",
    "    \"GLQ\": 6,\n",
    "    \"ALQ\": 5,\n",
    "    \"BLQ\": 4,\n",
    "    \"Rec\": 3,\n",
    "    \"LwQ\": 2,\n",
    "    \"Unf\": 1,\n",
    "    \"NA\": 0\n",
    "})\n",
    "df[\"BsmtFinType2\"] = df[\"BsmtFinType2\"].map({\n",
    "    \"GLQ\": 6,\n",
    "    \"ALQ\": 5,\n",
    "    \"BLQ\": 4,\n",
    "    \"Rec\": 3,\n",
    "    \"LwQ\": 2,\n",
    "    \"Unf\": 1,\n",
    "    \"NA\": 0\n",
    "})\n",
    "df[\"Heating\"] = le.fit_transform(df[\"Heating\"])\n",
    "df[\"HeatingQC\"] = df[\"HeatingQC\"].map(condition_map)\n",
    "df[\"CentralAir\"] = le.fit_transform(df[\"CentralAir\"])\n",
    "df[\"Electrical\"] = df[\"Electrical\"].map({\n",
    "    \"SBrkr\": 5,\n",
    "    \"FuseA\": 4,\n",
    "    \"FuseF\": 3,\n",
    "    \"FuseP\": 2,\n",
    "    \"Mix\": 1,\n",
    "    \"NA\": 0\n",
    "})\n",
    "df[\"KitchenQual\"] = df[\"KitchenQual\"].map(condition_map)\n",
    "df[\"Functional\"] = le.fit_transform(df[\"Functional\"])\n",
    "df[\"FireplaceQu\"] = df[\"FireplaceQu\"].map(condition_map)\n",
    "df[\"GarageType\"] = le.fit_transform(df[\"GarageType\"])\n",
    "df[\"GarageFinish\"] = df[\"GarageFinish\"].map({\n",
    "    \"Fin\": 3,\n",
    "    \"RFn\": 2,\n",
    "    \"Unf\": 1,\n",
    "    \"NA\": 0\n",
    "})\n",
    "df[\"GarageQual\"] = df[\"GarageQual\"].map(condition_map)\n",
    "df[\"GarageCond\"] = df[\"GarageCond\"].map(condition_map)\n",
    "df[\"PavedDrive\"] = df[\"PavedDrive\"].map({\n",
    "    \"Y\": 3,\n",
    "    \"P\": 2,\n",
    "    \"N\": 1,\n",
    "    \"NA\": 0\n",
    "})\n",
    "df[\"PoolQC\"] = df[\"PoolQC\"].map(condition_map)\n",
    "df[\"Fence\"] = df[\"Fence\"].map({\n",
    "    \"GdPrv\": 4,\n",
    "    \"MnPrv\": 3,\n",
    "    \"GdWo\": 2,\n",
    "    \"MnWw\": 1,\n",
    "    \"NA\": 0\n",
    "})\n",
    "df[\"MiscFeature\"] = le.fit_transform(df[\"MiscFeature\"])\n",
    "df[\"SaleType\"] = le.fit_transform(df[\"SaleType\"])\n",
    "df[\"SaleCondition\"] = le.fit_transform(df[\"SaleCondition\"])\n",
    "\n",
    "for col in df.columns:\n",
    "    if df[col].isna().sum() > 0:\n",
    "        df[col] = df[col].fillna(0)"
   ],
   "outputs": [],
   "execution_count": 17
  },
  {
   "metadata": {
    "ExecuteTime": {
     "end_time": "2024-04-18T22:33:49.647554Z",
     "start_time": "2024-04-18T22:33:49.631139Z"
    }
   },
   "cell_type": "code",
   "source": "df.info()",
   "outputs": [
    {
     "name": "stdout",
     "output_type": "stream",
     "text": [
      "<class 'pandas.core.frame.DataFrame'>\n",
      "RangeIndex: 1460 entries, 0 to 1459\n",
      "Data columns (total 81 columns):\n",
      " #   Column         Non-Null Count  Dtype  \n",
      "---  ------         --------------  -----  \n",
      " 0   Id             1460 non-null   int64  \n",
      " 1   MSSubClass     1460 non-null   int64  \n",
      " 2   MSZoning       1460 non-null   int32  \n",
      " 3   LotFrontage    1460 non-null   float64\n",
      " 4   LotArea        1460 non-null   int64  \n",
      " 5   Street         1460 non-null   int32  \n",
      " 6   Alley          1460 non-null   int32  \n",
      " 7   LotShape       1460 non-null   int32  \n",
      " 8   LandContour    1460 non-null   int32  \n",
      " 9   Utilities      1460 non-null   int32  \n",
      " 10  LotConfig      1460 non-null   int32  \n",
      " 11  LandSlope      1460 non-null   int64  \n",
      " 12  Neighborhood   1460 non-null   int32  \n",
      " 13  Condition1     1460 non-null   int32  \n",
      " 14  Condition2     1460 non-null   int32  \n",
      " 15  BldgType       1460 non-null   int32  \n",
      " 16  HouseStyle     1460 non-null   int32  \n",
      " 17  OverallQual    1460 non-null   int64  \n",
      " 18  OverallCond    1460 non-null   int64  \n",
      " 19  YearBuilt      1460 non-null   int64  \n",
      " 20  YearRemodAdd   1460 non-null   int64  \n",
      " 21  RoofStyle      1460 non-null   int32  \n",
      " 22  RoofMatl       1460 non-null   int32  \n",
      " 23  Exterior1st    1460 non-null   int32  \n",
      " 24  Exterior2nd    1460 non-null   int32  \n",
      " 25  MasVnrType     1460 non-null   int32  \n",
      " 26  MasVnrArea     1460 non-null   float64\n",
      " 27  ExterQual      1460 non-null   int64  \n",
      " 28  ExterCond      1460 non-null   int64  \n",
      " 29  Foundation     1460 non-null   int32  \n",
      " 30  BsmtQual       1460 non-null   float64\n",
      " 31  BsmtCond       1460 non-null   float64\n",
      " 32  BsmtExposure   1460 non-null   float64\n",
      " 33  BsmtFinType1   1460 non-null   float64\n",
      " 34  BsmtFinSF1     1460 non-null   int64  \n",
      " 35  BsmtFinType2   1460 non-null   float64\n",
      " 36  BsmtFinSF2     1460 non-null   int64  \n",
      " 37  BsmtUnfSF      1460 non-null   int64  \n",
      " 38  TotalBsmtSF    1460 non-null   int64  \n",
      " 39  Heating        1460 non-null   int32  \n",
      " 40  HeatingQC      1460 non-null   int64  \n",
      " 41  CentralAir     1460 non-null   int32  \n",
      " 42  Electrical     1460 non-null   float64\n",
      " 43  1stFlrSF       1460 non-null   int64  \n",
      " 44  2ndFlrSF       1460 non-null   int64  \n",
      " 45  LowQualFinSF   1460 non-null   int64  \n",
      " 46  GrLivArea      1460 non-null   int64  \n",
      " 47  BsmtFullBath   1460 non-null   int64  \n",
      " 48  BsmtHalfBath   1460 non-null   int64  \n",
      " 49  FullBath       1460 non-null   int64  \n",
      " 50  HalfBath       1460 non-null   int64  \n",
      " 51  BedroomAbvGr   1460 non-null   int64  \n",
      " 52  KitchenAbvGr   1460 non-null   int64  \n",
      " 53  KitchenQual    1460 non-null   int64  \n",
      " 54  TotRmsAbvGrd   1460 non-null   int64  \n",
      " 55  Functional     1460 non-null   int32  \n",
      " 56  Fireplaces     1460 non-null   int64  \n",
      " 57  FireplaceQu    1460 non-null   float64\n",
      " 58  GarageType     1460 non-null   int32  \n",
      " 59  GarageYrBlt    1460 non-null   float64\n",
      " 60  GarageFinish   1460 non-null   float64\n",
      " 61  GarageCars     1460 non-null   int64  \n",
      " 62  GarageArea     1460 non-null   int64  \n",
      " 63  GarageQual     1460 non-null   float64\n",
      " 64  GarageCond     1460 non-null   float64\n",
      " 65  PavedDrive     1460 non-null   int64  \n",
      " 66  WoodDeckSF     1460 non-null   int64  \n",
      " 67  OpenPorchSF    1460 non-null   int64  \n",
      " 68  EnclosedPorch  1460 non-null   int64  \n",
      " 69  3SsnPorch      1460 non-null   int64  \n",
      " 70  ScreenPorch    1460 non-null   int64  \n",
      " 71  PoolArea       1460 non-null   int64  \n",
      " 72  PoolQC         1460 non-null   float64\n",
      " 73  Fence          1460 non-null   float64\n",
      " 74  MiscFeature    1460 non-null   int32  \n",
      " 75  MiscVal        1460 non-null   int64  \n",
      " 76  MoSold         1460 non-null   int64  \n",
      " 77  YrSold         1460 non-null   int64  \n",
      " 78  SaleType       1460 non-null   int32  \n",
      " 79  SaleCondition  1460 non-null   int32  \n",
      " 80  SalePrice      1460 non-null   int64  \n",
      "dtypes: float64(15), int32(25), int64(41)\n",
      "memory usage: 781.5 KB\n"
     ]
    }
   ],
   "execution_count": 18
  },
  {
   "metadata": {},
   "cell_type": "markdown",
   "source": "# 2. Explore los datos y explique las transformaciones que debe hacerle para generar un modelo de máquinas vectoriales de soporte"
  },
  {
   "metadata": {},
   "cell_type": "markdown",
   "source": "Dada la manera en la que se trabaja este modelo, es necesario realizar una normalización de los datos, para que estos puedan ser trabajados de manera correcta."
  },
  {
   "metadata": {
    "ExecuteTime": {
     "end_time": "2024-04-18T22:35:13.568588Z",
     "start_time": "2024-04-18T22:35:13.558644Z"
    }
   },
   "cell_type": "code",
   "source": "df.dropna();",
   "outputs": [],
   "execution_count": 26
  },
  {
   "metadata": {
    "ExecuteTime": {
     "end_time": "2024-04-18T22:35:13.899212Z",
     "start_time": "2024-04-18T22:35:13.894679Z"
    }
   },
   "cell_type": "code",
   "source": "from sklearn.preprocessing import StandardScaler",
   "outputs": [],
   "execution_count": 27
  },
  {
   "metadata": {
    "ExecuteTime": {
     "end_time": "2024-04-18T22:35:14.345506Z",
     "start_time": "2024-04-18T22:35:14.320985Z"
    }
   },
   "cell_type": "code",
   "source": [
    "scaler = StandardScaler()\n",
    "numerical_cols = df.select_dtypes(include=['int64', 'int32', 'float64']).columns\n",
    "df[numerical_cols] = scaler.fit_transform(df[numerical_cols])"
   ],
   "outputs": [],
   "execution_count": 28
  },
  {
   "metadata": {
    "ExecuteTime": {
     "end_time": "2024-04-18T22:35:14.987945Z",
     "start_time": "2024-04-18T22:35:14.963100Z"
    }
   },
   "cell_type": "code",
   "source": "df.head()",
   "outputs": [
    {
     "data": {
      "text/plain": [
       "         Id  MSSubClass  MSZoning  LotFrontage   LotArea    Street     Alley  \\\n",
       "0 -1.730865    0.073375 -0.045532     0.212877 -0.207142  0.064238  0.244717   \n",
       "1 -1.728492   -0.872563 -0.045532     0.645747 -0.091886  0.064238  0.244717   \n",
       "2 -1.726120    0.073375 -0.045532     0.299451  0.073480  0.064238  0.244717   \n",
       "3 -1.723747    0.309859 -0.045532     0.068587 -0.096897  0.064238  0.244717   \n",
       "4 -1.721374    0.073375 -0.045532     0.761179  0.375148  0.064238  0.244717   \n",
       "\n",
       "   LotShape  LandContour  Utilities  ...  PoolArea    PoolQC     Fence  \\\n",
       "0  0.750731     0.314667   -0.02618  ... -0.068692 -0.066236 -0.469867   \n",
       "1  0.750731     0.314667   -0.02618  ... -0.068692 -0.066236 -0.469867   \n",
       "2 -1.378933     0.314667   -0.02618  ... -0.068692 -0.066236 -0.469867   \n",
       "3 -1.378933     0.314667   -0.02618  ... -0.068692 -0.066236 -0.469867   \n",
       "4 -1.378933     0.314667   -0.02618  ... -0.068692 -0.066236 -0.469867   \n",
       "\n",
       "   MiscFeature   MiscVal    MoSold    YrSold  SaleType  SaleCondition  \\\n",
       "0     0.191594 -0.087688 -1.599111  0.138777  0.313867       0.208502   \n",
       "1     0.191594 -0.087688 -0.489110 -0.614439  0.313867       0.208502   \n",
       "2     0.191594 -0.087688  0.990891  0.138777  0.313867       0.208502   \n",
       "3     0.191594 -0.087688 -1.599111 -1.367655  0.313867      -3.426284   \n",
       "4     0.191594 -0.087688  2.100892  0.138777  0.313867       0.208502   \n",
       "\n",
       "   SalePrice  \n",
       "0   0.347273  \n",
       "1   0.007288  \n",
       "2   0.536154  \n",
       "3  -0.515281  \n",
       "4   0.869843  \n",
       "\n",
       "[5 rows x 81 columns]"
      ],
      "text/html": [
       "<div>\n",
       "<style scoped>\n",
       "    .dataframe tbody tr th:only-of-type {\n",
       "        vertical-align: middle;\n",
       "    }\n",
       "\n",
       "    .dataframe tbody tr th {\n",
       "        vertical-align: top;\n",
       "    }\n",
       "\n",
       "    .dataframe thead th {\n",
       "        text-align: right;\n",
       "    }\n",
       "</style>\n",
       "<table border=\"1\" class=\"dataframe\">\n",
       "  <thead>\n",
       "    <tr style=\"text-align: right;\">\n",
       "      <th></th>\n",
       "      <th>Id</th>\n",
       "      <th>MSSubClass</th>\n",
       "      <th>MSZoning</th>\n",
       "      <th>LotFrontage</th>\n",
       "      <th>LotArea</th>\n",
       "      <th>Street</th>\n",
       "      <th>Alley</th>\n",
       "      <th>LotShape</th>\n",
       "      <th>LandContour</th>\n",
       "      <th>Utilities</th>\n",
       "      <th>...</th>\n",
       "      <th>PoolArea</th>\n",
       "      <th>PoolQC</th>\n",
       "      <th>Fence</th>\n",
       "      <th>MiscFeature</th>\n",
       "      <th>MiscVal</th>\n",
       "      <th>MoSold</th>\n",
       "      <th>YrSold</th>\n",
       "      <th>SaleType</th>\n",
       "      <th>SaleCondition</th>\n",
       "      <th>SalePrice</th>\n",
       "    </tr>\n",
       "  </thead>\n",
       "  <tbody>\n",
       "    <tr>\n",
       "      <th>0</th>\n",
       "      <td>-1.730865</td>\n",
       "      <td>0.073375</td>\n",
       "      <td>-0.045532</td>\n",
       "      <td>0.212877</td>\n",
       "      <td>-0.207142</td>\n",
       "      <td>0.064238</td>\n",
       "      <td>0.244717</td>\n",
       "      <td>0.750731</td>\n",
       "      <td>0.314667</td>\n",
       "      <td>-0.02618</td>\n",
       "      <td>...</td>\n",
       "      <td>-0.068692</td>\n",
       "      <td>-0.066236</td>\n",
       "      <td>-0.469867</td>\n",
       "      <td>0.191594</td>\n",
       "      <td>-0.087688</td>\n",
       "      <td>-1.599111</td>\n",
       "      <td>0.138777</td>\n",
       "      <td>0.313867</td>\n",
       "      <td>0.208502</td>\n",
       "      <td>0.347273</td>\n",
       "    </tr>\n",
       "    <tr>\n",
       "      <th>1</th>\n",
       "      <td>-1.728492</td>\n",
       "      <td>-0.872563</td>\n",
       "      <td>-0.045532</td>\n",
       "      <td>0.645747</td>\n",
       "      <td>-0.091886</td>\n",
       "      <td>0.064238</td>\n",
       "      <td>0.244717</td>\n",
       "      <td>0.750731</td>\n",
       "      <td>0.314667</td>\n",
       "      <td>-0.02618</td>\n",
       "      <td>...</td>\n",
       "      <td>-0.068692</td>\n",
       "      <td>-0.066236</td>\n",
       "      <td>-0.469867</td>\n",
       "      <td>0.191594</td>\n",
       "      <td>-0.087688</td>\n",
       "      <td>-0.489110</td>\n",
       "      <td>-0.614439</td>\n",
       "      <td>0.313867</td>\n",
       "      <td>0.208502</td>\n",
       "      <td>0.007288</td>\n",
       "    </tr>\n",
       "    <tr>\n",
       "      <th>2</th>\n",
       "      <td>-1.726120</td>\n",
       "      <td>0.073375</td>\n",
       "      <td>-0.045532</td>\n",
       "      <td>0.299451</td>\n",
       "      <td>0.073480</td>\n",
       "      <td>0.064238</td>\n",
       "      <td>0.244717</td>\n",
       "      <td>-1.378933</td>\n",
       "      <td>0.314667</td>\n",
       "      <td>-0.02618</td>\n",
       "      <td>...</td>\n",
       "      <td>-0.068692</td>\n",
       "      <td>-0.066236</td>\n",
       "      <td>-0.469867</td>\n",
       "      <td>0.191594</td>\n",
       "      <td>-0.087688</td>\n",
       "      <td>0.990891</td>\n",
       "      <td>0.138777</td>\n",
       "      <td>0.313867</td>\n",
       "      <td>0.208502</td>\n",
       "      <td>0.536154</td>\n",
       "    </tr>\n",
       "    <tr>\n",
       "      <th>3</th>\n",
       "      <td>-1.723747</td>\n",
       "      <td>0.309859</td>\n",
       "      <td>-0.045532</td>\n",
       "      <td>0.068587</td>\n",
       "      <td>-0.096897</td>\n",
       "      <td>0.064238</td>\n",
       "      <td>0.244717</td>\n",
       "      <td>-1.378933</td>\n",
       "      <td>0.314667</td>\n",
       "      <td>-0.02618</td>\n",
       "      <td>...</td>\n",
       "      <td>-0.068692</td>\n",
       "      <td>-0.066236</td>\n",
       "      <td>-0.469867</td>\n",
       "      <td>0.191594</td>\n",
       "      <td>-0.087688</td>\n",
       "      <td>-1.599111</td>\n",
       "      <td>-1.367655</td>\n",
       "      <td>0.313867</td>\n",
       "      <td>-3.426284</td>\n",
       "      <td>-0.515281</td>\n",
       "    </tr>\n",
       "    <tr>\n",
       "      <th>4</th>\n",
       "      <td>-1.721374</td>\n",
       "      <td>0.073375</td>\n",
       "      <td>-0.045532</td>\n",
       "      <td>0.761179</td>\n",
       "      <td>0.375148</td>\n",
       "      <td>0.064238</td>\n",
       "      <td>0.244717</td>\n",
       "      <td>-1.378933</td>\n",
       "      <td>0.314667</td>\n",
       "      <td>-0.02618</td>\n",
       "      <td>...</td>\n",
       "      <td>-0.068692</td>\n",
       "      <td>-0.066236</td>\n",
       "      <td>-0.469867</td>\n",
       "      <td>0.191594</td>\n",
       "      <td>-0.087688</td>\n",
       "      <td>2.100892</td>\n",
       "      <td>0.138777</td>\n",
       "      <td>0.313867</td>\n",
       "      <td>0.208502</td>\n",
       "      <td>0.869843</td>\n",
       "    </tr>\n",
       "  </tbody>\n",
       "</table>\n",
       "<p>5 rows × 81 columns</p>\n",
       "</div>"
      ]
     },
     "execution_count": 29,
     "metadata": {},
     "output_type": "execute_result"
    }
   ],
   "execution_count": 29
  },
  {
   "metadata": {},
   "cell_type": "markdown",
   "source": "# 3. Use como variable respuesta la variable categórica que especifica si la casa es barata, media o cara"
  },
  {
   "metadata": {
    "ExecuteTime": {
     "end_time": "2024-04-18T22:42:18.526527Z",
     "start_time": "2024-04-18T22:42:18.521507Z"
    }
   },
   "cell_type": "code",
   "source": [
    "def classify_house(price):\n",
    "    if price < lower_limit:\n",
    "        return 'Economical' \n",
    "    elif price < upper_limit:\n",
    "        return 'Intermediate'\n",
    "    else:\n",
    "        return 'Expensive'"
   ],
   "outputs": [],
   "execution_count": 31
  },
  {
   "metadata": {
    "ExecuteTime": {
     "end_time": "2024-04-18T22:42:18.733207Z",
     "start_time": "2024-04-18T22:42:18.727808Z"
    }
   },
   "cell_type": "code",
   "source": [
    "lower_limit = np.percentile(df['SalePrice'], 33)\n",
    "upper_limit = np.percentile(df['SalePrice'], 66)"
   ],
   "outputs": [],
   "execution_count": 32
  },
  {
   "metadata": {
    "ExecuteTime": {
     "end_time": "2024-04-18T22:42:19.095132Z",
     "start_time": "2024-04-18T22:42:19.088632Z"
    }
   },
   "cell_type": "code",
   "source": "df['Classification'] = df['SalePrice'].apply(classify_house)",
   "outputs": [],
   "execution_count": 33
  },
  {
   "metadata": {
    "ExecuteTime": {
     "end_time": "2024-04-18T22:42:20.420222Z",
     "start_time": "2024-04-18T22:42:20.414392Z"
    }
   },
   "cell_type": "code",
   "source": "print(df[['SalePrice', 'Classification']].head())",
   "outputs": [
    {
     "name": "stdout",
     "output_type": "stream",
     "text": [
      "   SalePrice Classification\n",
      "0   0.347273      Expensive\n",
      "1   0.007288   Intermediate\n",
      "2   0.536154      Expensive\n",
      "3  -0.515281   Intermediate\n",
      "4   0.869843      Expensive\n"
     ]
    }
   ],
   "execution_count": 34
  },
  {
   "metadata": {
    "ExecuteTime": {
     "end_time": "2024-04-18T22:45:44.328787Z",
     "start_time": "2024-04-18T22:45:42.770792Z"
    }
   },
   "cell_type": "code",
   "source": "from sklearn.model_selection import train_test_split",
   "outputs": [],
   "execution_count": 35
  },
  {
   "metadata": {
    "ExecuteTime": {
     "end_time": "2024-04-18T22:45:44.348620Z",
     "start_time": "2024-04-18T22:45:44.339365Z"
    }
   },
   "cell_type": "code",
   "source": [
    "X = df.drop(['SalePrice', 'Classification'], axis=1)\n",
    "y = df['Classification']"
   ],
   "outputs": [],
   "execution_count": 36
  },
  {
   "metadata": {
    "ExecuteTime": {
     "end_time": "2024-04-18T22:45:44.360991Z",
     "start_time": "2024-04-18T22:45:44.350632Z"
    }
   },
   "cell_type": "code",
   "source": "X_train, X_test, y_train, y_test = train_test_split(X, y, test_size=0.2, random_state=42)",
   "outputs": [],
   "execution_count": 37
  },
  {
   "metadata": {},
   "cell_type": "markdown",
   "source": "# 4. Genere varios (más de 2) modelos de SVM con diferentes kernels y distintos valores en los parámetros c, gamma (circular) y d (en caso de que utilice el polinomial). Puede tunear el modelo de forma automática siempre que explique los resultados"
  },
  {
   "metadata": {
    "ExecuteTime": {
     "end_time": "2024-04-18T22:50:53.483286Z",
     "start_time": "2024-04-18T22:50:53.476724Z"
    }
   },
   "cell_type": "code",
   "source": "from sklearn.svm import SVC",
   "outputs": [],
   "execution_count": 44
  },
  {
   "metadata": {
    "ExecuteTime": {
     "end_time": "2024-04-18T22:50:53.747723Z",
     "start_time": "2024-04-18T22:50:53.741555Z"
    }
   },
   "cell_type": "code",
   "source": "model_linear = SVC(kernel='linear', C=1)",
   "outputs": [],
   "execution_count": 45
  },
  {
   "metadata": {
    "ExecuteTime": {
     "end_time": "2024-04-18T22:50:54.459955Z",
     "start_time": "2024-04-18T22:50:54.454140Z"
    }
   },
   "cell_type": "code",
   "source": "model_rbf = SVC(kernel='rbf', C=1, gamma=0.1)",
   "outputs": [],
   "execution_count": 46
  },
  {
   "metadata": {
    "ExecuteTime": {
     "end_time": "2024-04-18T22:50:54.836417Z",
     "start_time": "2024-04-18T22:50:54.829237Z"
    }
   },
   "cell_type": "code",
   "source": "model_poly = SVC(kernel='poly', C=1, degree=3)",
   "outputs": [],
   "execution_count": 47
  }
 ],
 "metadata": {
  "kernelspec": {
   "display_name": "env",
   "language": "python",
   "name": "python3"
  },
  "language_info": {
   "codemirror_mode": {
    "name": "ipython",
    "version": 3
   },
   "file_extension": ".py",
   "mimetype": "text/x-python",
   "name": "python",
   "nbconvert_exporter": "python",
   "pygments_lexer": "ipython3",
   "version": "3.11.9"
  }
 },
 "nbformat": 4,
 "nbformat_minor": 2
}
